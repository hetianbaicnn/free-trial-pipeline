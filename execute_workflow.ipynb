{
 "cells": [
  {
   "cell_type": "code",
   "execution_count": 9,
   "metadata": {},
   "outputs": [],
   "source": [
    "from stepfunctions.workflow import Workflow\n",
    "from time import gmtime, strftime\n",
    "\n",
    "import boto3\n",
    "import csv\n",
    "import logging\n",
    "import json\n",
    "import time\n",
    "\n",
    "logger = logging.getLogger()\n",
    "logger.setLevel(logging.INFO)\n",
    "\n",
    "pipeline_name = 'FTInferenceRoutine'\n",
    "\n",
    "arn = [w['stateMachineArn'] for w in Workflow.list_workflows() if w['name'] == pipeline_name][0]\n",
    "\n",
    "workflow = Workflow.attach(state_machine_arn=arn)"
   ]
  },
  {
   "cell_type": "code",
   "execution_count": 10,
   "metadata": {},
   "outputs": [],
   "source": [
    "timestamp_prefix = strftime(\"%Y-%m-%d-%H-%M-%S\", gmtime())\n",
    "\n",
    "execution = workflow.execute(\n",
    "    inputs={\n",
    "        'SKLearnFeaturizerJobName': 'free-trial-sklearn-featurizer-{}'.format(timestamp_prefix),\n",
    "        'TransformTrainJobName': 'free-trial-transform-train-{}'.format(timestamp_prefix),\n",
    "        'TransformTestJobName': 'free-trial-transform-test-{}'.format(timestamp_prefix),\n",
    "        'FeaturizerModelName': 'free-trial-featurizer-model-{}'.format(timestamp_prefix),\n",
    "        'XGBModelName': 'free-trial-xgboost-model-{}'.format(timestamp_prefix),\n",
    "        'TrainXGBoostJobName': 'free-trial-train-xgboost-{}'.format(timestamp_prefix),\n",
    "        'PipelineModelName': 'free-trial-pipeline-model-{}'.format(timestamp_prefix),\n",
    "        'TransformNewJobName': 'free-trial-transform-new-{}'.format(timestamp_prefix),\n",
    "        'TransformXGBoostJobName': 'free-trial-transform-xgboost-{}'.format(timestamp_prefix),\n",
    "        'TimestampPrefix': timestamp_prefix\n",
    "    }\n",
    ")"
   ]
  },
  {
   "cell_type": "code",
   "execution_count": null,
   "metadata": {},
   "outputs": [],
   "source": []
  }
 ],
 "metadata": {
  "kernelspec": {
   "display_name": "conda_python3",
   "language": "python",
   "name": "conda_python3"
  },
  "language_info": {
   "codemirror_mode": {
    "name": "ipython",
    "version": 3
   },
   "file_extension": ".py",
   "mimetype": "text/x-python",
   "name": "python",
   "nbconvert_exporter": "python",
   "pygments_lexer": "ipython3",
   "version": "3.6.10"
  }
 },
 "nbformat": 4,
 "nbformat_minor": 4
}
