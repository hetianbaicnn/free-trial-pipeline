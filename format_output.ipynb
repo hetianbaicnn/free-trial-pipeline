{
 "cells": [
  {
   "cell_type": "code",
   "execution_count": null,
   "metadata": {},
   "outputs": [],
   "source": [
    "import boto3\n",
    "import pandas as pd\n",
    "\n",
    "s3_client = boto3.client('s3')"
   ]
  },
  {
   "cell_type": "code",
   "execution_count": null,
   "metadata": {},
   "outputs": [],
   "source": [
    "bucket = 'hbomax-datascience-development-dev'"
   ]
  },
  {
   "cell_type": "code",
   "execution_count": null,
   "metadata": {},
   "outputs": [],
   "source": [
    "# collect column headers for the SHAP columns\n",
    "shap_cols_df = pd.read_csv(f's3://{bucket}/free_trial_model/snowflake-hbomax-staging/schema/column_headers.csv',header=None)\n",
    "shap_column_headers = list(shap_cols_df[shap_cols_df.columns[0]])\n",
    "\n",
    "# include additional columns output by the batch transform job\n",
    "shap_column_headers = ['PREDICTION','SHAP_EXPECTED'] + shap_column_headers"
   ]
  },
  {
   "cell_type": "code",
   "execution_count": null,
   "metadata": {},
   "outputs": [],
   "source": [
    "# collect output files from the batch transform\n",
    "response = s3_client.list_objects_v2(\n",
    "        Bucket=bucket,\n",
    "        Prefix ='free_trial_model/snowflake-hbomax-staging/results')\n",
    "    \n",
    "files = [r['Key'] for r in response['Contents'] if r['Size'] > 0]\n",
    "\n",
    "raw_data = [ pd.read_csv(\n",
    "        f's3://{bucket}/{file}', header=None) for file in files ]\n",
    "\n",
    "concat_data = pd.concat(raw_data)"
   ]
  },
  {
   "cell_type": "code",
   "execution_count": null,
   "metadata": {},
   "outputs": [],
   "source": [
    "# define the columns we want to keep from the original output (first column plus SHAP columns)\n",
    "keep_cols = concat_data.columns[-len(shap_column_headers):].insert(loc=0, item=0)"
   ]
  },
  {
   "cell_type": "code",
   "execution_count": null,
   "metadata": {},
   "outputs": [],
   "source": [
    "# create a DataFrame with the formatted output\n",
    "shap_df = concat_data[keep_cols]"
   ]
  },
  {
   "cell_type": "code",
   "execution_count": null,
   "metadata": {},
   "outputs": [],
   "source": [
    "# rename column headers\n",
    "shap_df.columns = ['HBO_UUID'] + shap_column_headers"
   ]
  },
  {
   "cell_type": "code",
   "execution_count": null,
   "metadata": {},
   "outputs": [],
   "source": [
    "# formatted output DataFrame \n",
    "shap_df.head()"
   ]
  }
 ],
 "metadata": {
  "kernelspec": {
   "display_name": "conda_python3",
   "language": "python",
   "name": "conda_python3"
  },
  "language_info": {
   "codemirror_mode": {
    "name": "ipython",
    "version": 3
   },
   "file_extension": ".py",
   "mimetype": "text/x-python",
   "name": "python",
   "nbconvert_exporter": "python",
   "pygments_lexer": "ipython3",
   "version": "3.6.10"
  }
 },
 "nbformat": 4,
 "nbformat_minor": 4
}
