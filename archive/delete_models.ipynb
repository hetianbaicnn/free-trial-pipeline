{
 "cells": [
  {
   "cell_type": "code",
   "execution_count": 26,
   "metadata": {},
   "outputs": [],
   "source": [
    "import boto3\n",
    "import csv\n",
    "import datetime\n",
    "import logging\n",
    "import json\n",
    "import time\n",
    "import re\n",
    "\n",
    "from time import gmtime, strftime\n",
    "\n",
    "logger = logging.getLogger()\n",
    "logger.setLevel(logging.INFO)\n",
    "\n",
    "sm_client = boto3.client('sagemaker')\n",
    "resource_client = boto3.client('resourcegroupstaggingapi')"
   ]
  },
  {
   "cell_type": "code",
   "execution_count": 40,
   "metadata": {},
   "outputs": [],
   "source": [
    "response = resource_client.get_resources(\n",
    "    TagFilters=[\n",
    "        {\n",
    "            'Key': 'model',\n",
    "            'Values': [\n",
    "                'free_trial_xgboost'\n",
    "            ]\n",
    "        },\n",
    "    ],\n",
    "    ResourcesPerPage=100,\n",
    "    ResourceTypeFilters=['sagemaker:model']    \n",
    "    )"
   ]
  },
  {
   "cell_type": "code",
   "execution_count": 41,
   "metadata": {},
   "outputs": [
    {
     "data": {
      "text/plain": [
       "0"
      ]
     },
     "execution_count": 41,
     "metadata": {},
     "output_type": "execute_result"
    }
   ],
   "source": [
    "len(response['ResourceTagMappingList'])"
   ]
  },
  {
   "cell_type": "code",
   "execution_count": 37,
   "metadata": {},
   "outputs": [],
   "source": [
    "for r in response['ResourceTagMappingList']:\n",
    "    model_name = r['ResourceARN'].split('/')[1]\n",
    "    response = sm_client.delete_model(\n",
    "        ModelName=model_name\n",
    "    )"
   ]
  },
  {
   "cell_type": "code",
   "execution_count": 18,
   "metadata": {},
   "outputs": [
    {
     "data": {
      "text/plain": [
       "'free-trial-xgboost-model-2020-08-07-02-38-22'"
      ]
     },
     "execution_count": 18,
     "metadata": {},
     "output_type": "execute_result"
    }
   ],
   "source": [
    "model_name"
   ]
  },
  {
   "cell_type": "code",
   "execution_count": 19,
   "metadata": {},
   "outputs": [],
   "source": [
    "response = sm_client.delete_model(\n",
    "        ModelName=model_name\n",
    "    )"
   ]
  }
 ],
 "metadata": {
  "kernelspec": {
   "display_name": "conda_python3",
   "language": "python",
   "name": "conda_python3"
  },
  "language_info": {
   "codemirror_mode": {
    "name": "ipython",
    "version": 3
   },
   "file_extension": ".py",
   "mimetype": "text/x-python",
   "name": "python",
   "nbconvert_exporter": "python",
   "pygments_lexer": "ipython3",
   "version": "3.6.10"
  }
 },
 "nbformat": 4,
 "nbformat_minor": 4
}
