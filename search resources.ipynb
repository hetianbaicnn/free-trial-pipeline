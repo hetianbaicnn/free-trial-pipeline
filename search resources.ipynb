{
 "cells": [
  {
   "cell_type": "code",
   "execution_count": 7,
   "metadata": {},
   "outputs": [],
   "source": [
    "import boto3\n",
    "import csv\n",
    "import logging\n",
    "import json\n",
    "import time\n",
    "\n",
    "logger = logging.getLogger()\n",
    "logger.setLevel(logging.INFO)\n",
    "\n",
    "sm_client = boto3.client('sagemaker')\n",
    "resource_client = boto3.client('resourcegroupstaggingapi')"
   ]
  },
  {
   "cell_type": "code",
   "execution_count": 8,
   "metadata": {},
   "outputs": [
    {
     "ename": "ClientError",
     "evalue": "An error occurred (AccessDeniedException) when calling the GetResources operation: User: arn:aws:sts::613630599026:assumed-role/hbomax-datascience-sagemaker-notebook/SageMaker is not authorized to perform: tag:GetResources",
     "output_type": "error",
     "traceback": [
      "\u001b[0;31m---------------------------------------------------------------------------\u001b[0m",
      "\u001b[0;31mClientError\u001b[0m                               Traceback (most recent call last)",
      "\u001b[0;32m<ipython-input-8-4fc9ed520427>\u001b[0m in \u001b[0;36m<module>\u001b[0;34m\u001b[0m\n\u001b[1;32m      8\u001b[0m         },\n\u001b[1;32m      9\u001b[0m     ],\n\u001b[0;32m---> 10\u001b[0;31m     \u001b[0mResourcesPerPage\u001b[0m\u001b[0;34m=\u001b[0m\u001b[0;36m100\u001b[0m\u001b[0;34m\u001b[0m\u001b[0;34m\u001b[0m\u001b[0m\n\u001b[0m\u001b[1;32m     11\u001b[0m )\n",
      "\u001b[0;32m~/anaconda3/envs/python3/lib/python3.6/site-packages/botocore/client.py\u001b[0m in \u001b[0;36m_api_call\u001b[0;34m(self, *args, **kwargs)\u001b[0m\n\u001b[1;32m    314\u001b[0m                     \"%s() only accepts keyword arguments.\" % py_operation_name)\n\u001b[1;32m    315\u001b[0m             \u001b[0;31m# The \"self\" in this scope is referring to the BaseClient.\u001b[0m\u001b[0;34m\u001b[0m\u001b[0;34m\u001b[0m\u001b[0;34m\u001b[0m\u001b[0m\n\u001b[0;32m--> 316\u001b[0;31m             \u001b[0;32mreturn\u001b[0m \u001b[0mself\u001b[0m\u001b[0;34m.\u001b[0m\u001b[0m_make_api_call\u001b[0m\u001b[0;34m(\u001b[0m\u001b[0moperation_name\u001b[0m\u001b[0;34m,\u001b[0m \u001b[0mkwargs\u001b[0m\u001b[0;34m)\u001b[0m\u001b[0;34m\u001b[0m\u001b[0;34m\u001b[0m\u001b[0m\n\u001b[0m\u001b[1;32m    317\u001b[0m \u001b[0;34m\u001b[0m\u001b[0m\n\u001b[1;32m    318\u001b[0m         \u001b[0m_api_call\u001b[0m\u001b[0;34m.\u001b[0m\u001b[0m__name__\u001b[0m \u001b[0;34m=\u001b[0m \u001b[0mstr\u001b[0m\u001b[0;34m(\u001b[0m\u001b[0mpy_operation_name\u001b[0m\u001b[0;34m)\u001b[0m\u001b[0;34m\u001b[0m\u001b[0;34m\u001b[0m\u001b[0m\n",
      "\u001b[0;32m~/anaconda3/envs/python3/lib/python3.6/site-packages/botocore/client.py\u001b[0m in \u001b[0;36m_make_api_call\u001b[0;34m(self, operation_name, api_params)\u001b[0m\n\u001b[1;32m    633\u001b[0m             \u001b[0merror_code\u001b[0m \u001b[0;34m=\u001b[0m \u001b[0mparsed_response\u001b[0m\u001b[0;34m.\u001b[0m\u001b[0mget\u001b[0m\u001b[0;34m(\u001b[0m\u001b[0;34m\"Error\"\u001b[0m\u001b[0;34m,\u001b[0m \u001b[0;34m{\u001b[0m\u001b[0;34m}\u001b[0m\u001b[0;34m)\u001b[0m\u001b[0;34m.\u001b[0m\u001b[0mget\u001b[0m\u001b[0;34m(\u001b[0m\u001b[0;34m\"Code\"\u001b[0m\u001b[0;34m)\u001b[0m\u001b[0;34m\u001b[0m\u001b[0;34m\u001b[0m\u001b[0m\n\u001b[1;32m    634\u001b[0m             \u001b[0merror_class\u001b[0m \u001b[0;34m=\u001b[0m \u001b[0mself\u001b[0m\u001b[0;34m.\u001b[0m\u001b[0mexceptions\u001b[0m\u001b[0;34m.\u001b[0m\u001b[0mfrom_code\u001b[0m\u001b[0;34m(\u001b[0m\u001b[0merror_code\u001b[0m\u001b[0;34m)\u001b[0m\u001b[0;34m\u001b[0m\u001b[0;34m\u001b[0m\u001b[0m\n\u001b[0;32m--> 635\u001b[0;31m             \u001b[0;32mraise\u001b[0m \u001b[0merror_class\u001b[0m\u001b[0;34m(\u001b[0m\u001b[0mparsed_response\u001b[0m\u001b[0;34m,\u001b[0m \u001b[0moperation_name\u001b[0m\u001b[0;34m)\u001b[0m\u001b[0;34m\u001b[0m\u001b[0;34m\u001b[0m\u001b[0m\n\u001b[0m\u001b[1;32m    636\u001b[0m         \u001b[0;32melse\u001b[0m\u001b[0;34m:\u001b[0m\u001b[0;34m\u001b[0m\u001b[0;34m\u001b[0m\u001b[0m\n\u001b[1;32m    637\u001b[0m             \u001b[0;32mreturn\u001b[0m \u001b[0mparsed_response\u001b[0m\u001b[0;34m\u001b[0m\u001b[0;34m\u001b[0m\u001b[0m\n",
      "\u001b[0;31mClientError\u001b[0m: An error occurred (AccessDeniedException) when calling the GetResources operation: User: arn:aws:sts::613630599026:assumed-role/hbomax-datascience-sagemaker-notebook/SageMaker is not authorized to perform: tag:GetResources"
     ]
    }
   ],
   "source": [
    "response = resource_client.get_resources(\n",
    "    TagFilters=[\n",
    "        {\n",
    "            'Key': 'model',\n",
    "            'Values': [\n",
    "                'free_trial_pipeline'\n",
    "            ]\n",
    "        },\n",
    "    ],\n",
    "    ResourcesPerPage=100\n",
    ")"
   ]
  },
  {
   "cell_type": "code",
   "execution_count": 3,
   "metadata": {},
   "outputs": [
    {
     "data": {
      "text/plain": [
       "[]"
      ]
     },
     "execution_count": 3,
     "metadata": {},
     "output_type": "execute_result"
    }
   ],
   "source": [
    "results"
   ]
  },
  {
   "cell_type": "code",
   "execution_count": 5,
   "metadata": {},
   "outputs": [],
   "source": [
    "response = sm_client.list_models()"
   ]
  },
  {
   "cell_type": "code",
   "execution_count": 6,
   "metadata": {},
   "outputs": [
    {
     "data": {
      "text/plain": [
       "{'Models': [{'ModelName': 'free-trial-pipeline-model-2020-07-29-02-55-50',\n",
       "   'ModelArn': 'arn:aws:sagemaker:us-east-1:613630599026:model/free-trial-pipeline-model-2020-07-29-02-55-50',\n",
       "   'CreationTime': datetime.datetime(2020, 7, 29, 2, 55, 51, 686000, tzinfo=tzlocal())},\n",
       "  {'ModelName': 'free-trial-pipeline-model-2020-07-29-02-39-13',\n",
       "   'ModelArn': 'arn:aws:sagemaker:us-east-1:613630599026:model/free-trial-pipeline-model-2020-07-29-02-39-13',\n",
       "   'CreationTime': datetime.datetime(2020, 7, 29, 2, 51, 18, 629000, tzinfo=tzlocal())},\n",
       "  {'ModelName': 'free-trial-featurizer-model-2020-07-29-02-39-13',\n",
       "   'ModelArn': 'arn:aws:sagemaker:us-east-1:613630599026:model/free-trial-featurizer-model-2020-07-29-02-39-13',\n",
       "   'CreationTime': datetime.datetime(2020, 7, 29, 2, 42, 45, 52000, tzinfo=tzlocal())},\n",
       "  {'ModelName': 'free-trial-pipeline-model-2020-07-29-02-23-21',\n",
       "   'ModelArn': 'arn:aws:sagemaker:us-east-1:613630599026:model/free-trial-pipeline-model-2020-07-29-02-23-21',\n",
       "   'CreationTime': datetime.datetime(2020, 7, 29, 2, 34, 30, 155000, tzinfo=tzlocal())},\n",
       "  {'ModelName': 'free-trial-featurizer-model-2020-07-29-02-23-21',\n",
       "   'ModelArn': 'arn:aws:sagemaker:us-east-1:613630599026:model/free-trial-featurizer-model-2020-07-29-02-23-21',\n",
       "   'CreationTime': datetime.datetime(2020, 7, 29, 2, 27, 17, 442000, tzinfo=tzlocal())},\n",
       "  {'ModelName': 'free-trial-featurizer-model-2020-07-28-22-17-33',\n",
       "   'ModelArn': 'arn:aws:sagemaker:us-east-1:613630599026:model/free-trial-featurizer-model-2020-07-28-22-17-33',\n",
       "   'CreationTime': datetime.datetime(2020, 7, 28, 22, 21, 5, 946000, tzinfo=tzlocal())},\n",
       "  {'ModelName': 'free-trial-featurizer-model-2020-07-28-22-05-03',\n",
       "   'ModelArn': 'arn:aws:sagemaker:us-east-1:613630599026:model/free-trial-featurizer-model-2020-07-28-22-05-03',\n",
       "   'CreationTime': datetime.datetime(2020, 7, 28, 22, 8, 54, 851000, tzinfo=tzlocal())},\n",
       "  {'ModelName': 'featurizer-model-2020-07-28-21-10-06',\n",
       "   'ModelArn': 'arn:aws:sagemaker:us-east-1:613630599026:model/featurizer-model-2020-07-28-21-10-06',\n",
       "   'CreationTime': datetime.datetime(2020, 7, 28, 21, 13, 52, 391000, tzinfo=tzlocal())},\n",
       "  {'ModelName': 'featurizer-model-2020-07-28-20-54-28',\n",
       "   'ModelArn': 'arn:aws:sagemaker:us-east-1:613630599026:model/featurizer-model-2020-07-28-20-54-28',\n",
       "   'CreationTime': datetime.datetime(2020, 7, 28, 20, 58, 37, 21000, tzinfo=tzlocal())},\n",
       "  {'ModelName': 'featurizer-model-2020-07-28-17-48-28',\n",
       "   'ModelArn': 'arn:aws:sagemaker:us-east-1:613630599026:model/featurizer-model-2020-07-28-17-48-28',\n",
       "   'CreationTime': datetime.datetime(2020, 7, 28, 17, 52, 14, 157000, tzinfo=tzlocal())}],\n",
       " 'NextToken': 'cIws2QhTXUIa8bi8W4cYWlGtAGh2nSvdVTRVDkJCTo0ukaElTNV+/xYOQcfcCZgBEk8ZowUXNGJih0JaUibdEk/GDDiHB2/HhUwwTnl/QAbX7neyZTRkcvPkwAjRE68cEJ8kyf3lj/kLVLUt6KhlqCWDrxzMkj2dcWXBIsC2e7rC85hJ/6mqpnByQ7WlCPn5xd1J9aRMCUMmJWL/8M0yzDvDn05xxCu6pBXT2fJN0YVM+A3+ViVkylDvKfdBhe+MtkC71wOxXz0X0yStdADxf950x+/MFBCZWPpPqkps4FKl39mNFdJgi94UH6ewFFFuuT6Mqez2+i/qppJj7MzdaKrIGStIS50jqPPAoGH/HCerbUTOk37w2zmZ4y083Y2Y6VlMq1RdG9UGetfXqSWWn2qMu5thW7SpgR568/vmAiFn4XGrhlZiIMqzQhm6zHIvrDtC9DjwyhAh3t5QudTGYkvVwDxa3qURCID21hXsy04NpPNUbH98qajtVpfiB8ntfYWmsZI5PvgLgiYv6WKY43taGw==',\n",
       " 'ResponseMetadata': {'RequestId': 'a576f9ae-467e-481f-a3da-f308567fd870',\n",
       "  'HTTPStatusCode': 200,\n",
       "  'HTTPHeaders': {'x-amzn-requestid': 'a576f9ae-467e-481f-a3da-f308567fd870',\n",
       "   'content-type': 'application/x-amz-json-1.1',\n",
       "   'content-length': '2529',\n",
       "   'date': 'Wed, 29 Jul 2020 03:00:31 GMT'},\n",
       "  'RetryAttempts': 0}}"
      ]
     },
     "execution_count": 6,
     "metadata": {},
     "output_type": "execute_result"
    }
   ],
   "source": [
    "response"
   ]
  },
  {
   "cell_type": "code",
   "execution_count": null,
   "metadata": {},
   "outputs": [],
   "source": []
  }
 ],
 "metadata": {
  "kernelspec": {
   "display_name": "conda_python3",
   "language": "python",
   "name": "conda_python3"
  },
  "language_info": {
   "codemirror_mode": {
    "name": "ipython",
    "version": 3
   },
   "file_extension": ".py",
   "mimetype": "text/x-python",
   "name": "python",
   "nbconvert_exporter": "python",
   "pygments_lexer": "ipython3",
   "version": "3.6.10"
  }
 },
 "nbformat": 4,
 "nbformat_minor": 4
}
